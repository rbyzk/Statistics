{
 "cells": [
  {
   "cell_type": "markdown",
   "id": "2900ec02",
   "metadata": {},
   "source": [
    "# 📊 Hypothesis Testing in Statistics (with Python)\n",
    "\n",
    "Welcome to this comprehensive notebook on statistical hypothesis testing using Python. We'll explore essential concepts and perform statistical tests with practical examples and real-world scenarios."
   ]
  },
  {
   "cell_type": "markdown",
   "id": "a9205c06",
   "metadata": {},
   "source": [
    "## 📌 1. Introduction to Hypothesis Testing\n",
    "\n",
    "### 🎯 Objective:\n",
    "To determine whether a hypothesis about a population parameter (like the mean) is statistically significant based on sample data.\n",
    "\n",
    "### 🔍 Key Concepts:\n",
    "- **Null Hypothesis (H₀)**: Assumes no effect or no difference.\n",
    "- **Alternative Hypothesis (H₁)**: What we want to prove—indicates an effect or difference.\n",
    "- **Significance Level (α)**: Threshold probability for rejecting H₀. \n",
    "- **p-value**: The probability of obtaining a result at least as extreme as the observed one, assuming H₀ is true."
   ]
  },
  {
   "cell_type": "markdown",
   "id": "1b060ddf",
   "metadata": {},
   "source": [
    "### 🧪 Statistical Hypothesis Testing Steps\n",
    "\n",
    "### 🎯 Establishing Hypotheses (Claim → Scientific Formula)\n",
    "\n",
    "- **H₀ (Null Hypothesis):** Claim \"There is no change\"\n",
    "Example: The drug is ineffective\n",
    "**H₀: μ = 0**\n",
    "\n",
    "- **H₁ (Alternative Hypothesis):** Claim \"There is change\"\n",
    "Example: The drug is effective\n",
    "**H₁: μ > 0**\n",
    "\n",
    "💡 **Note:** The claim defended by the researcher is **H₁**. The aim is to **refute** H₀.\n",
    "\n",
    "### 📏 Test Statistic (Converting Data to Numbers)\n",
    "\n",
    "**Purpose:** To measure how well the sample data fits or does not fit H₀.\n",
    "\n",
    "The formula varies depending on the type of test used:\n",
    "\n",
    "- For means: **z-test / t-test**\n",
    "- For proportions: **z-test**\n",
    "- For variances: **χ² (Chi-square test)**\n",
    "\n",
    "### 📉 p-value (Extremity of Statistic)\n",
    "\n",
    "**Definition:** It is the probability of seeing the test statistic or a more extreme value if H₀ is assumed to be true.\n",
    "\n",
    "#### Calculation Methods:\n",
    "\n",
    "- z-statistic → Standard normal distribution table / software\n",
    "- t-statistic → t-distribution table / software\n",
    "\n",
    "#### Example:\n",
    "\n",
    "- z = 2.0\n",
    "- **p = P(Z ≥ 2.0) = 0.0228** (right tail test)\n",
    "\n",
    "### 🧾 α (Alpha - Significance Level)\n",
    "\n",
    "**Definition:** It is the maximum error (risk) level accepted to reject H₀.\n",
    "\n",
    "#### Common Values:\n",
    "\n",
    "- **α = 0.05** → 5% margin of error\n",
    "- **α = 0.01** → 1% margin of error\n",
    "\n",
    "### ⚖️ Decision Rules\n",
    "\n",
    "```text\n",
    "if p-value < α → reject H₀ (statistically significant)\n",
    "if p-value ≥ α → reject H₀ (insufficient evidence)"
   ]
  },
  {
   "cell_type": "markdown",
   "id": "7a3e9a76",
   "metadata": {},
   "source": [
    "## 🚨 2. Type I and Type II Errors\n",
    "\n",
    "### ❗ Type I Error (False Positive):\n",
    "- Rejecting a true null hypothesis.\n",
    "- Example: Declaring a drug effective when it is not.\n",
    "\n",
    "### ❓ Type II Error (False Negative):\n",
    "- Failing to reject a false null hypothesis.\n",
    "- Example: Concluding a drug is ineffective when it actually works.\n",
    "\n",
    "| Type        | Description                       | Consequence                           |\n",
    "|-------------|-----------------------------------|----------------------------------------|\n",
    "| Type I (α)  | False alarm                        | Unnecessary action or cost            |\n",
    "| Type II (β) | Missed detection                   | Missed opportunity or risk remains    |"
   ]
  },
  {
   "cell_type": "markdown",
   "id": "544217fa",
   "metadata": {},
   "source": [
    "## 🧭 3. One-Tailed vs. Two-Tailed Tests\n",
    "\n",
    "### ▶️ One-Tailed Test:\n",
    "Tests whether the parameter is either greater **or** less than a value. Use when direction matters (e.g., H₁: μ > μ₀).\n",
    "\n",
    "### 🔁 Two-Tailed Test:\n",
    "Tests whether the parameter is **not equal** to a value. Use when any deviation matters (e.g., H₁: μ ≠ μ₀)."
   ]
  },
  {
   "cell_type": "markdown",
   "id": "14b7ce76",
   "metadata": {},
   "source": [
    "## 🎯 Scenario Example: Lead Level in Seawater\n",
    "\n",
    "You're testing whether pollution in a coastal region exceeds acceptable limits:\n",
    "- Population Mean (μ₀) = 10 ppm\n",
    "- Sample Mean (x̄) = 10.5 ppm\n",
    "- Population SD (σ) = 1.5 ppm\n",
    "- Sample Size (n) = 40\n",
    "- α = 0.05"
   ]
  },
  {
   "cell_type": "code",
   "execution_count": 2,
   "id": "dd2daefd",
   "metadata": {},
   "outputs": [
    {
     "name": "stdout",
     "output_type": "stream",
     "text": [
      "Z Score: 2.108\n",
      "P-Value: 0.0175\n"
     ]
    }
   ],
   "source": [
    "### Step-by-Step (Z-Test: Population std known, n > 30):\n",
    "\n",
    "import scipy.stats as stats\n",
    "import numpy as np\n",
    "\n",
    "mu_0 = 10      # hypothesized population mean\n",
    "x_bar = 10.5   # sample mean\n",
    "sigma = 1.5    # population std deviation\n",
    "n = 40\n",
    "\n",
    "z = (x_bar - mu_0) / (sigma / np.sqrt(n))\n",
    "p_value = 1 - stats.norm.cdf(z)  # right-tail test\n",
    "\n",
    "print(f\"Z Score: {z:.3f}\")\n",
    "print(f\"P-Value: {p_value:.4f}\")\n",
    "\n",
    "# ✅ If `p-value < α`, reject H₀ → Pollution is significantly higher."
   ]
  },
  {
   "cell_type": "markdown",
   "id": "6d2ba4f2",
   "metadata": {},
   "source": [
    "## 🧪 Apply All Hypothesis Test Methods"
   ]
  },
  {
   "cell_type": "code",
   "execution_count": 3,
   "id": "5c3f604f",
   "metadata": {},
   "outputs": [],
   "source": [
    "# Simulate regions:\n",
    "\n",
    "import pandas as pd\n",
    "import matplotlib.pyplot as plt\n",
    "import seaborn as sns\n",
    "\n",
    "np.random.seed(42)\n",
    "clean = np.random.normal(10, 1.5, 40)\n",
    "polluted = np.random.normal(10.5, 1.5, 40)\n",
    "region_c = np.random.normal(11, 1.5, 40)"
   ]
  },
  {
   "cell_type": "code",
   "execution_count": 4,
   "id": "213ee74b",
   "metadata": {},
   "outputs": [],
   "source": [
    "# DataFrame for ANOVA\n",
    "df = pd.DataFrame({\"Region\": [\"Clean\"]*40 + [\"Polluted\"]*40 + [\"Coastal\"]*40,\n",
    "                   \"LeadLevel\": np.concatenate([clean, polluted, region_c])})"
   ]
  },
  {
   "cell_type": "code",
   "execution_count": 5,
   "id": "c5a5ab39",
   "metadata": {},
   "outputs": [
    {
     "data": {
      "text/html": [
       "<div>\n",
       "<style scoped>\n",
       "    .dataframe tbody tr th:only-of-type {\n",
       "        vertical-align: middle;\n",
       "    }\n",
       "\n",
       "    .dataframe tbody tr th {\n",
       "        vertical-align: top;\n",
       "    }\n",
       "\n",
       "    .dataframe thead th {\n",
       "        text-align: right;\n",
       "    }\n",
       "</style>\n",
       "<table border=\"1\" class=\"dataframe\">\n",
       "  <thead>\n",
       "    <tr style=\"text-align: right;\">\n",
       "      <th></th>\n",
       "      <th>Region</th>\n",
       "      <th>LeadLevel</th>\n",
       "    </tr>\n",
       "  </thead>\n",
       "  <tbody>\n",
       "    <tr>\n",
       "      <th>0</th>\n",
       "      <td>Clean</td>\n",
       "      <td>10.745071</td>\n",
       "    </tr>\n",
       "    <tr>\n",
       "      <th>1</th>\n",
       "      <td>Clean</td>\n",
       "      <td>9.792604</td>\n",
       "    </tr>\n",
       "    <tr>\n",
       "      <th>2</th>\n",
       "      <td>Clean</td>\n",
       "      <td>10.971533</td>\n",
       "    </tr>\n",
       "    <tr>\n",
       "      <th>3</th>\n",
       "      <td>Clean</td>\n",
       "      <td>12.284545</td>\n",
       "    </tr>\n",
       "    <tr>\n",
       "      <th>4</th>\n",
       "      <td>Clean</td>\n",
       "      <td>9.648770</td>\n",
       "    </tr>\n",
       "    <tr>\n",
       "      <th>...</th>\n",
       "      <td>...</td>\n",
       "      <td>...</td>\n",
       "    </tr>\n",
       "    <tr>\n",
       "      <th>115</th>\n",
       "      <td>Coastal</td>\n",
       "      <td>11.452321</td>\n",
       "    </tr>\n",
       "    <tr>\n",
       "      <th>116</th>\n",
       "      <td>Coastal</td>\n",
       "      <td>10.947932</td>\n",
       "    </tr>\n",
       "    <tr>\n",
       "      <th>117</th>\n",
       "      <td>Coastal</td>\n",
       "      <td>9.246983</td>\n",
       "    </tr>\n",
       "    <tr>\n",
       "      <th>118</th>\n",
       "      <td>Coastal</td>\n",
       "      <td>12.714234</td>\n",
       "    </tr>\n",
       "    <tr>\n",
       "      <th>119</th>\n",
       "      <td>Coastal</td>\n",
       "      <td>12.127900</td>\n",
       "    </tr>\n",
       "  </tbody>\n",
       "</table>\n",
       "<p>120 rows × 2 columns</p>\n",
       "</div>"
      ],
      "text/plain": [
       "      Region  LeadLevel\n",
       "0      Clean  10.745071\n",
       "1      Clean   9.792604\n",
       "2      Clean  10.971533\n",
       "3      Clean  12.284545\n",
       "4      Clean   9.648770\n",
       "..       ...        ...\n",
       "115  Coastal  11.452321\n",
       "116  Coastal  10.947932\n",
       "117  Coastal   9.246983\n",
       "118  Coastal  12.714234\n",
       "119  Coastal  12.127900\n",
       "\n",
       "[120 rows x 2 columns]"
      ]
     },
     "execution_count": 5,
     "metadata": {},
     "output_type": "execute_result"
    }
   ],
   "source": [
    "df"
   ]
  },
  {
   "cell_type": "markdown",
   "id": "2a5cab0d",
   "metadata": {},
   "source": [
    "### 📊 Boxplots and Distributions"
   ]
  },
  {
   "cell_type": "code",
   "execution_count": 10,
   "id": "8b139b4a",
   "metadata": {},
   "outputs": [
    {
     "data": {
      "image/png": "[encoded data removed]",
      "text/plain": [
       "<Figure size 640x480 with 1 Axes>"
      ]
     },
     "metadata": {},
     "output_type": "display_data"
    }
   ],
   "source": [
    "# Boxplot for visual comparison\n",
    "sns.boxplot(x=\"Region\", y=\"LeadLevel\", data=df)\n",
    "plt.title(\"Lead Levels by Region\")\n",
    "plt.show()"
   ]
  },
  {
   "cell_type": "code",
   "execution_count": 11,
   "id": "a0bb9c04",
   "metadata": {},
   "outputs": [
    {
     "data": {
      "image/png": "[encoded data removed]",
      "text/plain": [
       "<Figure size 640x480 with 1 Axes>"
      ]
     },
     "metadata": {},
     "output_type": "display_data"
    }
   ],
   "source": [
    "# Histogram and KDE plot\n",
    "sns.histplot(data=df, x=\"LeadLevel\", hue=\"Region\", kde=True)\n",
    "plt.title(\"Distribution of Lead Levels\")\n",
    "plt.show()"
   ]
  },
  {
   "cell_type": "markdown",
   "id": "f4630a9e",
   "metadata": {},
   "source": [
    "### 1️⃣ Z-Test"
   ]
  },
  {
   "cell_type": "code",
   "execution_count": 14,
   "id": "1edc77ce",
   "metadata": {},
   "outputs": [
    {
     "name": "stdout",
     "output_type": "stream",
     "text": [
      "Z-Test: Z= 1.924 , p= 0.0271\n"
     ]
    }
   ],
   "source": [
    "z = (np.mean(polluted) - mu_0) / (sigma / np.sqrt(len(polluted)))\n",
    "p_val = 1 - stats.norm.cdf(z)\n",
    "print(\"Z-Test: Z=\", round(z, 3), \", p=\", round(p_val, 4))"
   ]
  },
  {
   "cell_type": "markdown",
   "id": "e541da12",
   "metadata": {},
   "source": [
    "### 2️⃣ Independent T-Test"
   ]
  },
  {
   "cell_type": "code",
   "execution_count": 15,
   "id": "5680f7ac",
   "metadata": {},
   "outputs": [
    {
     "name": "stdout",
     "output_type": "stream",
     "text": [
      "T-Test: T= -2.439 , p= 0.017\n"
     ]
    }
   ],
   "source": [
    "t_stat, p_val = stats.ttest_ind(clean, polluted)\n",
    "print(\"T-Test: T=\", round(t_stat, 3), \", p=\", round(p_val, 4))"
   ]
  },
  {
   "cell_type": "markdown",
   "id": "64311ed9",
   "metadata": {},
   "source": [
    "### 3️⃣ Paired T-Test (Before/After)"
   ]
  },
  {
   "cell_type": "code",
   "execution_count": 16,
   "id": "0f1b66cf",
   "metadata": {},
   "outputs": [
    {
     "name": "stdout",
     "output_type": "stream",
     "text": [
      "Paired T-Test: T= 11.248 , p= 0.0\n"
     ]
    }
   ],
   "source": [
    "before = np.random.normal(10.5, 1.5, 30)\n",
    "after = before - np.random.normal(0.5, 0.3, 30)\n",
    "t_stat, p_val = stats.ttest_rel(before, after)\n",
    "print(\"Paired T-Test: T=\", round(t_stat, 3), \", p=\", round(p_val, 4))"
   ]
  },
  {
   "cell_type": "markdown",
   "id": "8c2f9d51",
   "metadata": {},
   "source": [
    "### 4️⃣ One-Way ANOVA"
   ]
  },
  {
   "cell_type": "code",
   "execution_count": 17,
   "id": "b74c19bc",
   "metadata": {},
   "outputs": [
    {
     "name": "stdout",
     "output_type": "stream",
     "text": [
      "ANOVA: F= 9.405 , p= 0.0002\n"
     ]
    }
   ],
   "source": [
    "f_stat, p_val = stats.f_oneway(clean, polluted, region_c)\n",
    "print(\"ANOVA: F=\", round(f_stat, 3), \", p=\", round(p_val, 4))"
   ]
  },
  {
   "cell_type": "markdown",
   "id": "fddb91ec",
   "metadata": {},
   "source": [
    "### 5️⃣ Chi-Square Test"
   ]
  },
  {
   "cell_type": "code",
   "execution_count": 18,
   "id": "d967c078",
   "metadata": {},
   "outputs": [
    {
     "name": "stdout",
     "output_type": "stream",
     "text": [
      "Chi-Square: Chi2= 4.32 , p= 0.0377\n"
     ]
    }
   ],
   "source": [
    "obs = np.array([[30, 10], [20, 20]])\n",
    "chi2, p_val, dof, exp = stats.chi2_contingency(obs)\n",
    "print(\"Chi-Square: Chi2=\", round(chi2, 3), \", p=\", round(p_val, 4))"
   ]
  },
  {
   "cell_type": "markdown",
   "id": "d3869dc4",
   "metadata": {},
   "source": [
    "### 📈 Realistic Report Summary for Environment:\n",
    "\n",
    "- Z-Test showed p < 0.05 → Lead levels in the polluted area are significantly higher.\n",
    "- ANOVA confirmed differences across all regions.\n",
    "- Visualization supports the increase trend in lead pollution."
   ]
  },
  {
   "cell_type": "markdown",
   "id": "e7fc1778",
   "metadata": {},
   "source": [
    "## 🧠 Psychology Scenario: Cognitive Therapy Effectiveness\n",
    "\n",
    "You're testing whether cognitive therapy reduces anxiety scores significantly.\n",
    "- Data: 30 patients, before and after therapy."
   ]
  },
  {
   "cell_type": "code",
   "execution_count": 19,
   "id": "cc394dc5",
   "metadata": {},
   "outputs": [],
   "source": [
    "before = np.random.normal(25, 5, 30)\n",
    "after = before - np.random.normal(5, 2, 30)"
   ]
  },
  {
   "cell_type": "code",
   "execution_count": 20,
   "id": "4c5ff623",
   "metadata": {},
   "outputs": [
    {
     "name": "stdout",
     "output_type": "stream",
     "text": [
      "Paired T-Test: p= 0.0\n"
     ]
    }
   ],
   "source": [
    "# Paired T-Test\n",
    "from scipy.stats import ttest_rel\n",
    "stat, p = ttest_rel(before, after)\n",
    "print(\"Paired T-Test: p=\", round(p, 4))"
   ]
  },
  {
   "cell_type": "markdown",
   "id": "4097b953",
   "metadata": {},
   "source": [
    "✅ Interpretation: If `p < 0.05`, therapy is effective in reducing anxiety."
   ]
  },
  {
   "cell_type": "markdown",
   "id": "ec6598f7",
   "metadata": {},
   "source": [
    "### 📊 Visualize:"
   ]
  },
  {
   "cell_type": "code",
   "execution_count": 22,
   "id": "e307dc5a",
   "metadata": {},
   "outputs": [
    {
     "data": {
      "image/png": "[encoded data removed]",
      "text/plain": [
       "<Figure size 640x480 with 1 Axes>"
      ]
     },
     "metadata": {},
     "output_type": "display_data"
    }
   ],
   "source": [
    "sns.boxplot(data=[before, after])\n",
    "plt.xticks([0, 1], ['Before', 'After'])\n",
    "plt.title(\"Anxiety Scores Before and After Therapy\")\n",
    "plt.show()"
   ]
  },
  {
   "cell_type": "markdown",
   "id": "a89e6d03",
   "metadata": {},
   "source": [
    "### 📈 Realistic Report Summary for Therapy:\n",
    "- The paired T-Test gave a p-value well below 0.05.\n",
    "- Therapy appears statistically effective in reducing anxiety.\n",
    "- Visualization shows a clear drop in scores post-therapy."
   ]
  },
  {
   "cell_type": "markdown",
   "id": "1fed167c",
   "metadata": {},
   "source": [
    "## 📈 Marketing Scenario: Conversion Rates A/B Testing\n",
    "\n",
    "You're comparing two web page versions:\n",
    "- Version A: 100 users, 25 converted\n",
    "- Version B: 100 users, 35 converted"
   ]
  },
  {
   "cell_type": "code",
   "execution_count": 23,
   "id": "a0df5148",
   "metadata": {},
   "outputs": [
    {
     "name": "stdout",
     "output_type": "stream",
     "text": [
      "Chi-Square Test for A/B: p= 0.1649\n"
     ]
    }
   ],
   "source": [
    "obs = np.array([[25, 75], [35, 65]])\n",
    "chi2, p, dof, exp = stats.chi2_contingency(obs)\n",
    "print(\"Chi-Square Test for A/B: p=\", round(p, 4))"
   ]
  },
  {
   "cell_type": "markdown",
   "id": "d8cb8bb6",
   "metadata": {},
   "source": [
    "✅ Interpretation: If `p < 0.05`, Version B has significantly better conversion rate."
   ]
  },
  {
   "cell_type": "markdown",
   "id": "d34816a2",
   "metadata": {},
   "source": [
    "### 📊 Visualize:"
   ]
  },
  {
   "cell_type": "code",
   "execution_count": 24,
   "id": "c94f6287",
   "metadata": {},
   "outputs": [
    {
     "data": {
      "image/png": "[encoded data removed]",
      "text/plain": [
       "<Figure size 640x480 with 1 Axes>"
      ]
     },
     "metadata": {},
     "output_type": "display_data"
    }
   ],
   "source": [
    "sns.barplot(x=['Version A', 'Version B'], y=[25/100, 35/100])\n",
    "plt.ylabel(\"Conversion Rate\")\n",
    "plt.title(\"Conversion Comparison\")\n",
    "plt.ylim(0, 0.5)\n",
    "plt.show()"
   ]
  },
  {
   "cell_type": "markdown",
   "id": "ba76da00",
   "metadata": {},
   "source": [
    "## ✅ Non-Parametric Alternatives & Assumption Checks"
   ]
  },
  {
   "cell_type": "markdown",
   "id": "29f9b15a",
   "metadata": {},
   "source": [
    "### 6️⃣ Normality Check"
   ]
  },
  {
   "cell_type": "code",
   "execution_count": 25,
   "id": "145b6b3d",
   "metadata": {},
   "outputs": [
    {
     "name": "stdout",
     "output_type": "stream",
     "text": [
      "Shapiro-Wilk Test: p= 0.3709\n"
     ]
    }
   ],
   "source": [
    "from scipy.stats import shapiro\n",
    "\n",
    "stat, p = shapiro(polluted)\n",
    "print(\"Shapiro-Wilk Test: p=\", round(p, 4))"
   ]
  },
  {
   "cell_type": "markdown",
   "id": "cea89191",
   "metadata": {},
   "source": [
    "### 7️⃣ Variance Homogeneity (Levene’s Test)"
   ]
  },
  {
   "cell_type": "code",
   "execution_count": 26,
   "id": "5e841fbb",
   "metadata": {},
   "outputs": [
    {
     "name": "stdout",
     "output_type": "stream",
     "text": [
      "Levene’s Test: p= 0.9633\n"
     ]
    }
   ],
   "source": [
    "from scipy.stats import levene\n",
    "\n",
    "stat, p = levene(clean, polluted)\n",
    "print(\"Levene’s Test: p=\", round(p, 4))"
   ]
  },
  {
   "cell_type": "markdown",
   "id": "5b80c6a9",
   "metadata": {},
   "source": [
    "### 8️⃣ Mann-Whitney U Test"
   ]
  },
  {
   "cell_type": "code",
   "execution_count": 27,
   "id": "82ecea44",
   "metadata": {},
   "outputs": [
    {
     "name": "stdout",
     "output_type": "stream",
     "text": [
      "Mann-Whitney U Test: p= 0.0112\n"
     ]
    }
   ],
   "source": [
    "from scipy.stats import mannwhitneyu\n",
    "\n",
    "u, p = mannwhitneyu(clean, polluted)\n",
    "print(\"Mann-Whitney U Test: p=\", round(p, 4))"
   ]
  },
  {
   "cell_type": "markdown",
   "id": "c37333ba",
   "metadata": {},
   "source": [
    "### 9️⃣ Wilcoxon Signed-Rank Test"
   ]
  },
  {
   "cell_type": "code",
   "execution_count": 28,
   "id": "d5ac34ab",
   "metadata": {},
   "outputs": [
    {
     "name": "stdout",
     "output_type": "stream",
     "text": [
      "Wilcoxon Test: p= 0.0\n"
     ]
    }
   ],
   "source": [
    "from scipy.stats import wilcoxon\n",
    "\n",
    "stat, p = wilcoxon(before - after)\n",
    "print(\"Wilcoxon Test: p=\", round(p, 4))"
   ]
  },
  {
   "cell_type": "markdown",
   "id": "d33660fb",
   "metadata": {},
   "source": [
    "### 🔟 Kruskal-Wallis Test (Non-parametric ANOVA)"
   ]
  },
  {
   "cell_type": "code",
   "execution_count": 29,
   "id": "c4f013ee",
   "metadata": {},
   "outputs": [
    {
     "name": "stdout",
     "output_type": "stream",
     "text": [
      "Kruskal-Wallis Test: p= 0.0002\n"
     ]
    }
   ],
   "source": [
    "from scipy.stats import kruskal\n",
    "\n",
    "stat, p = kruskal(clean, polluted, region_c)\n",
    "print(\"Kruskal-Wallis Test: p=\", round(p, 4))"
   ]
  },
  {
   "cell_type": "markdown",
   "id": "4e783270",
   "metadata": {},
   "source": [
    "## 📌 Summary of All Tests\n",
    "\n",
    "| Test                | Used For                              | Assumptions                          |\n",
    "|---------------------|----------------------------------------|--------------------------------------|\n",
    "| Z-Test              | Large n, known std                     | Normality, known σ                   |\n",
    "| Independent T-Test  | Two group means                        | Normality, equal variances           |\n",
    "| Paired T-Test       | Before-after in same subjects          | Normality of differences             |\n",
    "| ANOVA               | 3+ groups                              | Normality, equal variances           |\n",
    "| Chi-Square Test     | Categorical variables                  | Expected frequency > 5               |\n",
    "| Mann-Whitney        | Non-parametric for 2 indep. groups     | Independent, ordinal/continuous      |\n",
    "| Wilcoxon            | Non-parametric for paired data         | Symmetry of difference distribution  |\n",
    "| Kruskal-Wallis      | Non-parametric for 3+ groups           | Independent samples                  |"
   ]
  }
 ],
 "metadata": {
  "kernelspec": {
   "display_name": "Python 3",
   "language": "python",
   "name": "python3"
  },
  "language_info": {
   "codemirror_mode": {
    "name": "ipython",
    "version": 3
   },
   "file_extension": ".py",
   "mimetype": "text/x-python",
   "name": "python",
   "nbconvert_exporter": "python",
   "pygments_lexer": "ipython3",
   "version": "3.13.3"
  }
 },
 "nbformat": 4,
 "nbformat_minor": 5
}
