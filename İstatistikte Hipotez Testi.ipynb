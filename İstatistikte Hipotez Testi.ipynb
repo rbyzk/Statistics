{
 "cells": [
  {
   "cell_type": "markdown",
   "id": "c8ee4e7a",
   "metadata": {},
   "source": [
    "# 📊 İstatistikte Hipotez Testi (Python ile)\n",
    "\n",
    "Python kullanarak istatistiksel hipotez testi hakkında bu kapsamlı not defterine hoş geldiniz. Temel kavramları keşfedecek ve pratik örnekler ve gerçek dünya senaryolarıyla istatistiksel testler gerçekleştireceğiz."
   ]
  },
  {
   "cell_type": "markdown",
   "id": "afa85d0e",
   "metadata": {},
   "source": [
    "## 📌 1. Hipotez Testine Giriş\n",
    "\n",
    "### 🎯 Amaç:\n",
    "Bir popülasyon parametresi (ortalama gibi) hakkındaki bir hipotezin örnek verilere göre istatistiksel olarak anlamlı olup olmadığını belirlemek.\n",
    "\n",
    "### 🔍 Temel Kavramlar:\n",
    "- **Sıfır Hipotezi (H₀)**: Hiçbir etki veya fark olmadığını varsayar.\n",
    "- **Alternatif Hipotez (H₁)**: Kanıtlamak istediğimiz şey—bir etki veya fark olduğunu gösterir.\n",
    "- **Önem Düzeyi (α)**: H₀'yi reddetmek için eşik olasılığıdır. \n",
    "- **p-değeri**: H₀'nin doğru olduğu varsayılarak, en azından gözlemlenen kadar uç bir sonuç elde etme olasılığıdır."
   ]
  },
  {
   "cell_type": "markdown",
   "id": "d7e1a9f0",
   "metadata": {},
   "source": [
    "### 🧪 İstatistiksel Hipotez Testi Adımları\n",
    "\n",
    "### 🎯 Hipotezlerin Kurulması (İddia → Bilimsel Formül)\n",
    "\n",
    "- **H₀ (Sıfır Hipotezi):** \"Değişim yok\" iddiası  \n",
    "  Örnek: İlacın etkisiz olduğu  \n",
    "  **H₀: μ = 0**\n",
    "\n",
    "- **H₁ (Alternatif Hipotez):** \"Değişim var\" iddiası  \n",
    "  Örnek: İlacın etkili olduğu  \n",
    "  **H₁: μ > 0**\n",
    "\n",
    "💡 **Not:** Araştırmacının savunduğu iddia **H₁**’dir. Amaç **H₀’ı çürütmektir**.\n",
    "\n",
    "\n",
    "### 📏 Test İstatistiği (Veriyi Sayıya Dönüştürme)\n",
    "\n",
    "**Amaç:** Örnek verinin H₀'a ne kadar uyduğunu veya uymadığını ölçmek.\n",
    "\n",
    "Formül, kullanılan test türüne göre değişir:\n",
    "\n",
    "- Ortalamalar için: **z-testi / t-testi**\n",
    "- Oranlar için: **z-testi**\n",
    "- Varyanslar için: **χ² (Ki-kare testi)**\n",
    "\n",
    "###  📉 p-değeri (İstatistiğin Uçluluğu)\n",
    "\n",
    "**Tanım:** H₀ doğru kabul edilirse, elde edilen test istatistiği veya daha uç bir değerin görülme olasılığıdır.\n",
    "\n",
    "#### Hesaplama Yöntemleri:\n",
    "\n",
    "- z-istatistiği → Standart normal dağılım tablosu / yazılım\n",
    "- t-istatistiği → t-dağılımı tablosu / yazılım\n",
    "\n",
    "#### Örnek:\n",
    "\n",
    "- z = 2.0  \n",
    "- **p = P(Z ≥ 2.0) = 0.0228** (sağ kuyruk testi)\n",
    "\n",
    "\n",
    "###  🧾 α (Alfa - Önem Düzeyi)\n",
    "\n",
    "**Tanım:** H₀'ı reddetmek için kabul edilen maksimum hata (risk) düzeyidir.\n",
    "\n",
    "#### Yaygın Değerler:\n",
    "\n",
    "- **α = 0.05** → %5 hata payı  \n",
    "- **α = 0.01** → %1 hata payı\n",
    "\n",
    "\n",
    "###  ⚖️ Karar Verme Kuralları\n",
    "\n",
    "```text\n",
    "eğer p-değeri < α ise → H₀ reddedilir (istatistiksel olarak anlamlı)\n",
    "eğer p-değeri ≥ α ise → H₀ reddedilemez (kanıt yetersiz)\n"
   ]
  },
  {
   "cell_type": "markdown",
   "id": "708d0a1b",
   "metadata": {},
   "source": [
    "## 🚨 2. Tip I ve Tip II Hataları\n",
    "\n",
    "### ❗ Tip I Hatası (Yanlış Pozitif):\n",
    "- Gerçek bir sıfır hipotezini reddetmek.\n",
    "- Örnek: Etkili olmadığı halde bir ilacı etkili ilan etmek.\n",
    "\n",
    "### ❓ Tip II Hatası (Yanlış Negatif):\n",
    "- Yanlış bir sıfır hipotezini reddetmemek.\n",
    "- Örnek: Gerçekten işe yaradığında bir ilacın etkisiz olduğu sonucuna varmak.\n",
    "\n",
    "| Tip | Açıklama | Sonuç |\n",
    "|-------------|-----------------------------------|--------------------------------------|\n",
    "| Tip I (α) | Yanlış alarm | Gereksiz eylem veya maliyet |\n",
    "| Tip II (β) | Kaçırılan tespit | Kaçırılan fırsat veya risk devam ediyor |"
   ]
  },
  {
   "cell_type": "markdown",
   "id": "72bc1a36",
   "metadata": {},
   "source": [
    "## 🧭 3. Tek Kuyruklu ve İki Kuyruklu Testler\n",
    "\n",
    "### ▶️ Tek Kuyruklu Test:\n",
    "Parametrenin bir değerden büyük **veya** küçük olup olmadığını test eder. Yön önemli olduğunda kullanın (örn. H₁: μ > μ₀).\n",
    "\n",
    "### 🔁 İki Kuyruklu Test:\n",
    "Parametrenin bir değere **eşit olmadığını** test eder. Herhangi bir sapma önemli olduğunda kullanın (örn. H₁: μ ≠ μ₀)."
   ]
  },
  {
   "cell_type": "markdown",
   "id": "e03235d4",
   "metadata": {},
   "source": [
    "## 🎯 Senaryo Örneği: Deniz Suyundaki Kurşun Seviyesi\n",
    "\n",
    "Bir kıyı bölgesindeki kirliliğin kabul edilebilir sınırları aşıp aşmadığını test ediyorsunuz:\n",
    "- Popülasyon Ortalaması (μ₀) = 10 ppm\n",
    "- Örnek Ortalaması (x̄) = 10,5 ppm\n",
    "- Popülasyon SD (σ) = 1,5 ppm\n",
    "- Örnek Boyutu (n) = 40\n",
    "- α = 0,05"
   ]
  },
  {
   "cell_type": "code",
   "execution_count": 5,
   "id": "e31a07df",
   "metadata": {},
   "outputs": [
    {
     "name": "stdout",
     "output_type": "stream",
     "text": [
      "Z Score: 2.108\n",
      "P-Value: 0.0175\n"
     ]
    }
   ],
   "source": [
    "# Adım Adım (Z Testi: Popülasyon standart sapması biliniyor, n > 30):\n",
    "\n",
    "import scipy.stats as stats\n",
    "import numpy as np\n",
    "\n",
    "mu_0 = 10      # varsayılan popülasyon ortalaması\n",
    "x_bar = 10.5   # örnek ortalaması\n",
    "sigma = 1.5    # popülasyon standart sapması\n",
    "n = 40\n",
    "\n",
    "z = (x_bar - mu_0) / (sigma / np.sqrt(n))\n",
    "p_value = 1 - stats.norm.cdf(z)  # sağ kuyruk testi(right-tail test)\n",
    "\n",
    "print(f\"Z Score: {z:.3f}\")\n",
    "print(f\"P-Value: {p_value:.4f}\")\n",
    "\n",
    "# ✅ Eğer `p-değeri < α` ise, H₀'yi reddet → Kirlilik önemli ölçüde daha yüksektir."
   ]
  },
  {
   "cell_type": "markdown",
   "id": "1d545598",
   "metadata": {},
   "source": [
    "## 🧪 Tüm Hipotez Testi Yöntemlerini Uygulama"
   ]
  },
  {
   "cell_type": "code",
   "execution_count": 10,
   "id": "d0ebc038",
   "metadata": {},
   "outputs": [],
   "source": [
    "# Bölgeleri simüle et:\n",
    "\n",
    "import pandas as pd\n",
    "import matplotlib.pyplot as plt\n",
    "import seaborn as sns\n",
    "\n",
    "np.random.seed(42)\n",
    "clean = np.random.normal(10, 1.5, 40)\n",
    "polluted = np.random.normal(10.5, 1.5, 40)\n",
    "region_c = np.random.normal(11, 1.5, 40)"
   ]
  },
  {
   "cell_type": "code",
   "execution_count": 11,
   "id": "80b6030b",
   "metadata": {},
   "outputs": [],
   "source": [
    "# ANOVA için Veri Çerçevesi\n",
    "df = pd.DataFrame({\"Region\": [\"Clean\"]*40 + [\"Polluted\"]*40 + [\"Coastal\"]*40,\n",
    "                   \"LeadLevel\": np.concatenate([clean, polluted, region_c])})"
   ]
  },
  {
   "cell_type": "code",
   "execution_count": 8,
   "id": "2cdc1200",
   "metadata": {},
   "outputs": [
    {
     "data": {
      "text/html": [
       "<div>\n",
       "<style scoped>\n",
       "    .dataframe tbody tr th:only-of-type {\n",
       "        vertical-align: middle;\n",
       "    }\n",
       "\n",
       "    .dataframe tbody tr th {\n",
       "        vertical-align: top;\n",
       "    }\n",
       "\n",
       "    .dataframe thead th {\n",
       "        text-align: right;\n",
       "    }\n",
       "</style>\n",
       "<table border=\"1\" class=\"dataframe\">\n",
       "  <thead>\n",
       "    <tr style=\"text-align: right;\">\n",
       "      <th></th>\n",
       "      <th>Region</th>\n",
       "      <th>LeadLevel</th>\n",
       "    </tr>\n",
       "  </thead>\n",
       "  <tbody>\n",
       "    <tr>\n",
       "      <th>0</th>\n",
       "      <td>Clean</td>\n",
       "      <td>10.745071</td>\n",
       "    </tr>\n",
       "    <tr>\n",
       "      <th>1</th>\n",
       "      <td>Clean</td>\n",
       "      <td>9.792604</td>\n",
       "    </tr>\n",
       "    <tr>\n",
       "      <th>2</th>\n",
       "      <td>Clean</td>\n",
       "      <td>10.971533</td>\n",
       "    </tr>\n",
       "    <tr>\n",
       "      <th>3</th>\n",
       "      <td>Clean</td>\n",
       "      <td>12.284545</td>\n",
       "    </tr>\n",
       "    <tr>\n",
       "      <th>4</th>\n",
       "      <td>Clean</td>\n",
       "      <td>9.648770</td>\n",
       "    </tr>\n",
       "    <tr>\n",
       "      <th>...</th>\n",
       "      <td>...</td>\n",
       "      <td>...</td>\n",
       "    </tr>\n",
       "    <tr>\n",
       "      <th>115</th>\n",
       "      <td>Coastal</td>\n",
       "      <td>11.452321</td>\n",
       "    </tr>\n",
       "    <tr>\n",
       "      <th>116</th>\n",
       "      <td>Coastal</td>\n",
       "      <td>10.947932</td>\n",
       "    </tr>\n",
       "    <tr>\n",
       "      <th>117</th>\n",
       "      <td>Coastal</td>\n",
       "      <td>9.246983</td>\n",
       "    </tr>\n",
       "    <tr>\n",
       "      <th>118</th>\n",
       "      <td>Coastal</td>\n",
       "      <td>12.714234</td>\n",
       "    </tr>\n",
       "    <tr>\n",
       "      <th>119</th>\n",
       "      <td>Coastal</td>\n",
       "      <td>12.127900</td>\n",
       "    </tr>\n",
       "  </tbody>\n",
       "</table>\n",
       "<p>120 rows × 2 columns</p>\n",
       "</div>"
      ],
      "text/plain": [
       "      Region  LeadLevel\n",
       "0      Clean  10.745071\n",
       "1      Clean   9.792604\n",
       "2      Clean  10.971533\n",
       "3      Clean  12.284545\n",
       "4      Clean   9.648770\n",
       "..       ...        ...\n",
       "115  Coastal  11.452321\n",
       "116  Coastal  10.947932\n",
       "117  Coastal   9.246983\n",
       "118  Coastal  12.714234\n",
       "119  Coastal  12.127900\n",
       "\n",
       "[120 rows x 2 columns]"
      ]
     },
     "execution_count": 8,
     "metadata": {},
     "output_type": "execute_result"
    }
   ],
   "source": [
    "df"
   ]
  },
  {
   "cell_type": "markdown",
   "id": "b851b4ab",
   "metadata": {},
   "source": [
    "### 📊 Kutu Grafikleri ve Dağılımlar"
   ]
  },
  {
   "cell_type": "code",
   "execution_count": 9,
   "id": "04ad8a0b",
   "metadata": {},
   "outputs": [
    {
     "data": {
      "image/png": "[encoded data removed]",
      "text/plain": [
       "<Figure size 640x480 with 1 Axes>"
      ]
     },
     "metadata": {},
     "output_type": "display_data"
    }
   ],
   "source": [
    "# Görsel karşılaştırma için kutu grafiği\n",
    "sns.boxplot(x=\"Region\", y=\"LeadLevel\", data=df)\n",
    "plt.title(\"Bölgeye Göre Kurşun Seviyeleri\")\n",
    "plt.show()"
   ]
  },
  {
   "cell_type": "code",
   "execution_count": 12,
   "id": "31b6a7cf",
   "metadata": {},
   "outputs": [
    {
     "data": {
      "image/png": "[encoded data removed]",
      "text/plain": [
       "<Figure size 640x480 with 1 Axes>"
      ]
     },
     "metadata": {},
     "output_type": "display_data"
    }
   ],
   "source": [
    "# Histogram ve KDE çizimi\n",
    "sns.histplot(data=df, x=\"LeadLevel\", hue=\"Region\", kde=True)\n",
    "plt.title(\"Kurşun Seviyelerinin Dağılımı\")\n",
    "plt.show()"
   ]
  },
  {
   "cell_type": "markdown",
   "id": "5a8d8d06",
   "metadata": {},
   "source": [
    "### 1️⃣ Z-Test"
   ]
  },
  {
   "cell_type": "code",
   "execution_count": 13,
   "id": "f9211ed5",
   "metadata": {},
   "outputs": [
    {
     "name": "stdout",
     "output_type": "stream",
     "text": [
      "Z-Test: Z= 1.924 , p= 0.0271\n"
     ]
    }
   ],
   "source": [
    "z = (np.mean(polluted) - mu_0) / (sigma / np.sqrt(len(polluted)))\n",
    "p_val = 1 - stats.norm.cdf(z)\n",
    "print(\"Z-Test: Z=\", round(z, 3), \", p=\", round(p_val, 4))"
   ]
  },
  {
   "cell_type": "markdown",
   "id": "79d263fc",
   "metadata": {},
   "source": [
    "### 2️⃣ Independent T-Test"
   ]
  },
  {
   "cell_type": "code",
   "execution_count": 14,
   "id": "c494071a",
   "metadata": {},
   "outputs": [
    {
     "name": "stdout",
     "output_type": "stream",
     "text": [
      "T-Test: T= -2.439 , p= 0.017\n"
     ]
    }
   ],
   "source": [
    "t_stat, p_val = stats.ttest_ind(clean, polluted)\n",
    "print(\"T-Test: T=\", round(t_stat, 3), \", p=\", round(p_val, 4))"
   ]
  },
  {
   "cell_type": "markdown",
   "id": "4494b830",
   "metadata": {},
   "source": [
    "### 3️⃣ Paired T-Test (Before/After)"
   ]
  },
  {
   "cell_type": "code",
   "execution_count": 15,
   "id": "62cb680a",
   "metadata": {},
   "outputs": [
    {
     "name": "stdout",
     "output_type": "stream",
     "text": [
      "Paired T-Test: T= 11.248 , p= 0.0\n"
     ]
    }
   ],
   "source": [
    "before = np.random.normal(10.5, 1.5, 30)\n",
    "after = before - np.random.normal(0.5, 0.3, 30)\n",
    "t_stat, p_val = stats.ttest_rel(before, after)\n",
    "print(\"Paired T-Test: T=\", round(t_stat, 3), \", p=\", round(p_val, 4))"
   ]
  },
  {
   "cell_type": "markdown",
   "id": "d6006ebd",
   "metadata": {},
   "source": [
    "### 4️⃣ One-Way ANOVA"
   ]
  },
  {
   "cell_type": "code",
   "execution_count": 16,
   "id": "c7d406e8",
   "metadata": {},
   "outputs": [
    {
     "name": "stdout",
     "output_type": "stream",
     "text": [
      "ANOVA: F= 9.405 , p= 0.0002\n"
     ]
    }
   ],
   "source": [
    "f_stat, p_val = stats.f_oneway(clean, polluted, region_c)\n",
    "print(\"ANOVA: F=\", round(f_stat, 3), \", p=\", round(p_val, 4))"
   ]
  },
  {
   "cell_type": "markdown",
   "id": "2980487a",
   "metadata": {},
   "source": [
    "### 5️⃣ Chi-Square Test"
   ]
  },
  {
   "cell_type": "code",
   "execution_count": 17,
   "id": "d439541a",
   "metadata": {},
   "outputs": [
    {
     "name": "stdout",
     "output_type": "stream",
     "text": [
      "Chi-Square: Chi2= 4.32 , p= 0.0377\n"
     ]
    }
   ],
   "source": [
    "obs = np.array([[30, 10], [20, 20]])\n",
    "chi2, p_val, dof, exp = stats.chi2_contingency(obs)\n",
    "print(\"Chi-Square: Chi2=\", round(chi2, 3), \", p=\", round(p_val, 4))"
   ]
  },
  {
   "cell_type": "markdown",
   "id": "fab95a0c",
   "metadata": {},
   "source": [
    "### 📈 Çevre için Rapor Özeti:\n",
    "\n",
    "- Z-Testi p < 0,05 gösterdi → Kirli bölgedeki kurşun seviyeleri önemli ölçüde daha yüksek.\n",
    "- ANOVA tüm bölgelerdeki farklılıkları doğruladı.\n",
    "- Görselleştirme kurşun kirliliğindeki artış eğilimini destekliyor."
   ]
  },
  {
   "cell_type": "markdown",
   "id": "6461dd6e",
   "metadata": {},
   "source": [
    "## 🧠 Psikoloji Senaryosu: Bilişsel Terapi Etkinliği\n",
    "\n",
    "Bilişsel terapinin kaygı puanlarını önemli ölçüde azaltıp azaltmadığını test ediyorsunuz.\n",
    "- Veri: 30 hasta, terapiden önce ve sonra:"
   ]
  },
  {
   "cell_type": "code",
   "execution_count": 18,
   "id": "5ca9bc21",
   "metadata": {},
   "outputs": [],
   "source": [
    "before = np.random.normal(25, 5, 30)\n",
    "after = before - np.random.normal(5, 2, 30)"
   ]
  },
  {
   "cell_type": "code",
   "execution_count": 19,
   "id": "3607c4ff",
   "metadata": {},
   "outputs": [
    {
     "name": "stdout",
     "output_type": "stream",
     "text": [
      "Paired T-Test: p= 0.0\n"
     ]
    }
   ],
   "source": [
    "# Paired T-Test\n",
    "from scipy.stats import ttest_rel\n",
    "stat, p = ttest_rel(before, after)\n",
    "print(\"Paired T-Test: p=\", round(p, 4))"
   ]
  },
  {
   "cell_type": "markdown",
   "id": "8e9adaf6",
   "metadata": {},
   "source": [
    "✅ Yorum: Eğer `p < 0,05` ise terapi kaygıyı azaltmada etkilidir."
   ]
  },
  {
   "cell_type": "markdown",
   "id": "0bedda01",
   "metadata": {},
   "source": [
    "### 📊 Görselleştirme:"
   ]
  },
  {
   "cell_type": "code",
   "execution_count": 20,
   "id": "2f53f3f7",
   "metadata": {},
   "outputs": [
    {
     "data": {
      "image/png": "[encoded data removed]",
      "text/plain": [
       "<Figure size 640x480 with 1 Axes>"
      ]
     },
     "metadata": {},
     "output_type": "display_data"
    }
   ],
   "source": [
    "sns.boxplot(data=[before, after])\n",
    "plt.xticks([0, 1], ['Before', 'After'])\n",
    "plt.title(\"Terapi Öncesi ve Sonrası Kaygı Puanları\")\n",
    "plt.show()"
   ]
  },
  {
   "cell_type": "markdown",
   "id": "3ee58b4d",
   "metadata": {},
   "source": [
    "### 📈 Terapi için Rapor Özeti:\n",
    "- Eşleştirilmiş T Testi 0,05'in çok altında bir p değeri verdi.\n",
    "- Terapi, kaygıyı azaltmada istatistiksel olarak etkili görünüyor.\n",
    "- Görselleştirme, terapiden sonra puanlarda belirgin bir düşüş olduğunu gösteriyor."
   ]
  },
  {
   "cell_type": "markdown",
   "id": "6e1e78a5",
   "metadata": {},
   "source": [
    "## 📈 Pazarlama Senaryosu: Dönüşüm Oranları A/B Testi\n",
    "\n",
    "İki web sayfası sürümünü karşılaştırıyorsunuz:\n",
    "- Sürüm A: 100 kullanıcı, 25 dönüştürülmüş\n",
    "- Sürüm B: 100 kullanıcı, 35 dönüştürülmüş"
   ]
  },
  {
   "cell_type": "code",
   "execution_count": 21,
   "id": "9dee8690",
   "metadata": {},
   "outputs": [
    {
     "name": "stdout",
     "output_type": "stream",
     "text": [
      "Chi-Square Test for A/B: p= 0.1649\n"
     ]
    }
   ],
   "source": [
    "obs = np.array([[25, 75], [35, 65]])\n",
    "chi2, p, dof, exp = stats.chi2_contingency(obs)\n",
    "print(\"Chi-Square Test for A/B: p=\", round(p, 4))"
   ]
  },
  {
   "cell_type": "markdown",
   "id": "65648e32",
   "metadata": {},
   "source": [
    "✅ Yorum: Eğer `p < 0,05` ise, Versiyon B'nin dönüşüm oranı önemli ölçüde daha iyidir."
   ]
  },
  {
   "cell_type": "markdown",
   "id": "d3a86c75",
   "metadata": {},
   "source": [
    "### 📊 Görselleştirme:"
   ]
  },
  {
   "cell_type": "code",
   "execution_count": 23,
   "id": "da0b7a32",
   "metadata": {},
   "outputs": [
    {
     "data": {
      "image/png": "[encoded data removed]",
      "text/plain": [
       "<Figure size 640x480 with 1 Axes>"
      ]
     },
     "metadata": {},
     "output_type": "display_data"
    }
   ],
   "source": [
    "sns.barplot(x=['Version A', 'Version B'], y=[25/100, 35/100])\n",
    "plt.ylabel(\"Dönüşüm Oranı\")\n",
    "plt.title(\"Dönüşüm Karşılaştırması\")\n",
    "plt.ylim(0, 0.5)\n",
    "plt.show()"
   ]
  },
  {
   "cell_type": "markdown",
   "id": "d90e5cc8",
   "metadata": {},
   "source": [
    "## ✅ Parametresiz Alternatifler ve Varsayım Kontrolleri"
   ]
  },
  {
   "cell_type": "markdown",
   "id": "a9599eb8",
   "metadata": {},
   "source": [
    "### 6️⃣ Normallik Kontrolü"
   ]
  },
  {
   "cell_type": "code",
   "execution_count": 24,
   "id": "ddd3c14e",
   "metadata": {},
   "outputs": [
    {
     "name": "stdout",
     "output_type": "stream",
     "text": [
      "Shapiro-Wilk Test: p= 0.3709\n"
     ]
    }
   ],
   "source": [
    "from scipy.stats import shapiro\n",
    "\n",
    "stat, p = shapiro(polluted)\n",
    "print(\"Shapiro-Wilk Test: p=\", round(p, 4))"
   ]
  },
  {
   "cell_type": "markdown",
   "id": "892a2c57",
   "metadata": {},
   "source": [
    "### 7️⃣ Varyans Homojenliği (Levene Testi)"
   ]
  },
  {
   "cell_type": "code",
   "execution_count": 25,
   "id": "68ff9a3e",
   "metadata": {},
   "outputs": [
    {
     "name": "stdout",
     "output_type": "stream",
     "text": [
      "Levene’s Test: p= 0.9633\n"
     ]
    }
   ],
   "source": [
    "from scipy.stats import levene\n",
    "\n",
    "stat, p = levene(clean, polluted)\n",
    "print(\"Levene’s Test: p=\", round(p, 4))"
   ]
  },
  {
   "cell_type": "markdown",
   "id": "ad138515",
   "metadata": {},
   "source": [
    "### 8️⃣ Mann-Whitney U Test"
   ]
  },
  {
   "cell_type": "code",
   "execution_count": 26,
   "id": "9b99be3f",
   "metadata": {},
   "outputs": [
    {
     "name": "stdout",
     "output_type": "stream",
     "text": [
      "Mann-Whitney U Test: p= 0.0112\n"
     ]
    }
   ],
   "source": [
    "from scipy.stats import mannwhitneyu\n",
    "\n",
    "u, p = mannwhitneyu(clean, polluted)\n",
    "print(\"Mann-Whitney U Test: p=\", round(p, 4))"
   ]
  },
  {
   "cell_type": "markdown",
   "id": "fbbd03b9",
   "metadata": {},
   "source": [
    "### 9️⃣ Wilcoxon Signed-Rank Test"
   ]
  },
  {
   "cell_type": "code",
   "execution_count": 27,
   "id": "6f659bb3",
   "metadata": {},
   "outputs": [
    {
     "name": "stdout",
     "output_type": "stream",
     "text": [
      "Wilcoxon Test: p= 0.0\n"
     ]
    }
   ],
   "source": [
    "from scipy.stats import wilcoxon\n",
    "\n",
    "stat, p = wilcoxon(before - after)\n",
    "print(\"Wilcoxon Test: p=\", round(p, 4))"
   ]
  },
  {
   "cell_type": "markdown",
   "id": "931a408d",
   "metadata": {},
   "source": [
    "### 🔟 Kruskal-Wallis Testi (Parametrik Olmayan ANOVA)"
   ]
  },
  {
   "cell_type": "code",
   "execution_count": 28,
   "id": "8ea9d871",
   "metadata": {},
   "outputs": [
    {
     "name": "stdout",
     "output_type": "stream",
     "text": [
      "Kruskal-Wallis Test: p= 0.0002\n"
     ]
    }
   ],
   "source": [
    "from scipy.stats import kruskal\n",
    "\n",
    "stat, p = kruskal(clean, polluted, region_c)\n",
    "print(\"Kruskal-Wallis Test: p=\", round(p, 4))"
   ]
  },
  {
   "cell_type": "markdown",
   "id": "62f06ce6",
   "metadata": {},
   "source": [
    "## 📌 Tüm Testlerin Özeti\n",
    "\n",
    "| Test | Kullanım Amacı | Varsayımlar |\n",
    "|----------------------|---------------------------------------------|----------------------------------------|\n",
    "| Z Testi | Büyük n, bilinen standart sapma | Normallik, bilinen σ |\n",
    "| Bağımsız T Testi | İki grup ortalaması | Normallik, eşit varyanslar |\n",
    "| Eşleştirilmiş T Testi | Aynı deneklerde öncesi-sonrası | Farklılıkların normalliği |\n",
    "| ANOVA | 3+ grup | Normallik, eşit varyanslar |\n",
    "| Ki-Kare Testi | Kategorik değişkenler | Beklenen frekans > 5 |\n",
    "| Mann-Whitney | 2 bağımsız grup için parametrik olmayan | Bağımsız, sıralı/sürekli |\n",
    "| Wilcoxon | Eşleştirilmiş veriler için parametrik olmayan | Fark dağılımının simetrisi |\n",
    "| Kruskal-Wallis | 3+ grup için parametrik olmayan | Bağımsız örnekler |"
   ]
  }
 ],
 "metadata": {
  "kernelspec": {
   "display_name": "Python 3",
   "language": "python",
   "name": "python3"
  },
  "language_info": {
   "codemirror_mode": {
    "name": "ipython",
    "version": 3
   },
   "file_extension": ".py",
   "mimetype": "text/x-python",
   "name": "python",
   "nbconvert_exporter": "python",
   "pygments_lexer": "ipython3",
   "version": "3.13.3"
  }
 },
 "nbformat": 4,
 "nbformat_minor": 5
}
